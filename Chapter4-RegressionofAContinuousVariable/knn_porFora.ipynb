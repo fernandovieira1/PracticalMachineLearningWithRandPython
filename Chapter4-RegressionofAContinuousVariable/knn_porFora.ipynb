{
 "metadata": {
  "language_info": {
   "codemirror_mode": {
    "name": "ipython",
    "version": 3
   },
   "file_extension": ".py",
   "mimetype": "text/x-python",
   "name": "python",
   "nbconvert_exporter": "python",
   "pygments_lexer": "ipython3",
   "version": "3.8.3-final"
  },
  "orig_nbformat": 2,
  "kernelspec": {
   "name": "python3",
   "display_name": "Python 3"
  }
 },
 "nbformat": 4,
 "nbformat_minor": 2,
 "cells": [
  {
   "source": [
    "#### KNN - Visão geral"
   ],
   "cell_type": "markdown",
   "metadata": {}
  },
  {
   "source": [
    "Antes de continuar no livro**, decidi estudar knn por fora para ter uma visão básica do tema.\n",
    "\n",
    "Aula disponível em: \n",
    "- https://www.youtube.com/watch?v=xL2RK0QYtHc\n",
    "- https://github.com/fea-dev-usp/ai-ws01-knn\n",
    "\n",
    "** Ganesh, Tinniam V. Practical Machine Learning with R and Python: Machine Learning in Stereo (p. 99). Edição do Kindle. "
   ],
   "cell_type": "markdown",
   "metadata": {}
  },
  {
   "cell_type": "code",
   "execution_count": 17,
   "metadata": {},
   "outputs": [
    {
     "output_type": "execute_result",
     "data": {
      "text/plain": [
       "['names.txt',\n",
       " '.DS_Store',\n",
       " 'Boston.csv',\n",
       " 'cap4.py',\n",
       " 'knn_porFora.ipynb',\n",
       " 'Data.csv',\n",
       " 'foo1.png',\n",
       " 'cap4.r',\n",
       " 'crimes.csv',\n",
       " 'foo.png',\n",
       " 'RFunctions.R',\n",
       " 'RandPython.Rmd',\n",
       " 'auto_mpg.csv',\n",
       " 'communities_data.csv']"
      ]
     },
     "metadata": {},
     "execution_count": 17
    }
   ],
   "source": [
    "import os\n",
    "os.chdir(\"/Users/fernandovieira/OneDrive/1. Educacao/INFO E ESTAT/RAIZ_Livro_ML_Tinnian_Ganesh/PracticalMachineLearningWithRandPython-3/Chapter4-RegressionofAContinuousVariable\")\n",
    "# os.chdir(\"C:/Users/70485992191/OneDrive/1. Educacao/INFO E ESTAT/Fernando DS - Python e R/Dados\")\n",
    "os.getcwd()\n",
    "os.listdir()"
   ]
  },
  {
   "source": [
    "#### 0. Importando as bibliotecas"
   ],
   "cell_type": "markdown",
   "metadata": {}
  },
  {
   "cell_type": "code",
   "execution_count": 18,
   "metadata": {},
   "outputs": [],
   "source": [
    "# Manipular/ver dados\n",
    "import pandas as pd\n",
    "import numpy as np\n",
    "import matplotlib.pyplot as plt\n",
    "import seaborn as sns\n",
    "\n",
    "# Criar modelo ML\n",
    "from sklearn import preprocessing, model_selection, neighbors\n",
    "from sklearn.preprocessing import StandardScaler\n",
    "\n",
    "# Plotar o modelo\n",
    "from mlxtend.plotting import plot_decision_regions"
   ]
  },
  {
   "cell_type": "code",
   "execution_count": 22,
   "metadata": {},
   "outputs": [],
   "source": [
    "df = pd.read_csv(\"Data.csv\", encoding=\"utf-8\")\n",
    "df.drop([\"sl_no\"], 1, inplace=True)"
   ]
  },
  {
   "cell_type": "code",
   "execution_count": 23,
   "metadata": {},
   "outputs": [
    {
     "output_type": "execute_result",
     "data": {
      "text/plain": [
       "  gender  ssc_p    ssc_b  hsc_p    hsc_b     hsc_s  degree_p   degree_t  \\\n",
       "0      M  67.00   Others  91.00   Others  Commerce     58.00   Sci&Tech   \n",
       "1      M  79.33  Central  78.33   Others   Science     77.48   Sci&Tech   \n",
       "2      M  65.00  Central  68.00  Central      Arts     64.00  Comm&Mgmt   \n",
       "3      M  56.00  Central  52.00  Central   Science     52.00   Sci&Tech   \n",
       "4      M  85.80  Central  73.60  Central  Commerce     73.30  Comm&Mgmt   \n",
       "\n",
       "  workex  etest_p specialisation  mba_p      status    salary  \n",
       "0     No     55.0         Mkt&HR  58.80      Placed  270000.0  \n",
       "1    Yes     86.5        Mkt&Fin  66.28      Placed  200000.0  \n",
       "2     No     75.0        Mkt&Fin  57.80      Placed  250000.0  \n",
       "3     No     66.0         Mkt&HR  59.43  Not Placed       NaN  \n",
       "4     No     96.8        Mkt&Fin  55.50      Placed  425000.0  "
      ],
      "text/html": "<div>\n<style scoped>\n    .dataframe tbody tr th:only-of-type {\n        vertical-align: middle;\n    }\n\n    .dataframe tbody tr th {\n        vertical-align: top;\n    }\n\n    .dataframe thead th {\n        text-align: right;\n    }\n</style>\n<table border=\"1\" class=\"dataframe\">\n  <thead>\n    <tr style=\"text-align: right;\">\n      <th></th>\n      <th>gender</th>\n      <th>ssc_p</th>\n      <th>ssc_b</th>\n      <th>hsc_p</th>\n      <th>hsc_b</th>\n      <th>hsc_s</th>\n      <th>degree_p</th>\n      <th>degree_t</th>\n      <th>workex</th>\n      <th>etest_p</th>\n      <th>specialisation</th>\n      <th>mba_p</th>\n      <th>status</th>\n      <th>salary</th>\n    </tr>\n  </thead>\n  <tbody>\n    <tr>\n      <th>0</th>\n      <td>M</td>\n      <td>67.00</td>\n      <td>Others</td>\n      <td>91.00</td>\n      <td>Others</td>\n      <td>Commerce</td>\n      <td>58.00</td>\n      <td>Sci&amp;Tech</td>\n      <td>No</td>\n      <td>55.0</td>\n      <td>Mkt&amp;HR</td>\n      <td>58.80</td>\n      <td>Placed</td>\n      <td>270000.0</td>\n    </tr>\n    <tr>\n      <th>1</th>\n      <td>M</td>\n      <td>79.33</td>\n      <td>Central</td>\n      <td>78.33</td>\n      <td>Others</td>\n      <td>Science</td>\n      <td>77.48</td>\n      <td>Sci&amp;Tech</td>\n      <td>Yes</td>\n      <td>86.5</td>\n      <td>Mkt&amp;Fin</td>\n      <td>66.28</td>\n      <td>Placed</td>\n      <td>200000.0</td>\n    </tr>\n    <tr>\n      <th>2</th>\n      <td>M</td>\n      <td>65.00</td>\n      <td>Central</td>\n      <td>68.00</td>\n      <td>Central</td>\n      <td>Arts</td>\n      <td>64.00</td>\n      <td>Comm&amp;Mgmt</td>\n      <td>No</td>\n      <td>75.0</td>\n      <td>Mkt&amp;Fin</td>\n      <td>57.80</td>\n      <td>Placed</td>\n      <td>250000.0</td>\n    </tr>\n    <tr>\n      <th>3</th>\n      <td>M</td>\n      <td>56.00</td>\n      <td>Central</td>\n      <td>52.00</td>\n      <td>Central</td>\n      <td>Science</td>\n      <td>52.00</td>\n      <td>Sci&amp;Tech</td>\n      <td>No</td>\n      <td>66.0</td>\n      <td>Mkt&amp;HR</td>\n      <td>59.43</td>\n      <td>Not Placed</td>\n      <td>NaN</td>\n    </tr>\n    <tr>\n      <th>4</th>\n      <td>M</td>\n      <td>85.80</td>\n      <td>Central</td>\n      <td>73.60</td>\n      <td>Central</td>\n      <td>Commerce</td>\n      <td>73.30</td>\n      <td>Comm&amp;Mgmt</td>\n      <td>No</td>\n      <td>96.8</td>\n      <td>Mkt&amp;Fin</td>\n      <td>55.50</td>\n      <td>Placed</td>\n      <td>425000.0</td>\n    </tr>\n  </tbody>\n</table>\n</div>"
     },
     "metadata": {},
     "execution_count": 23
    }
   ],
   "source": [
    "df.head()"
   ]
  },
  {
   "cell_type": "code",
   "execution_count": 26,
   "metadata": {},
   "outputs": [
    {
     "output_type": "execute_result",
     "data": {
      "text/plain": [
       "    gender  ssc_p    ssc_b  hsc_p   hsc_b     hsc_s  degree_p   degree_t  \\\n",
       "210      M   80.6   Others   82.0  Others  Commerce      77.6  Comm&Mgmt   \n",
       "211      M   58.0   Others   60.0  Others   Science      72.0   Sci&Tech   \n",
       "212      M   67.0   Others   67.0  Others  Commerce      73.0  Comm&Mgmt   \n",
       "213      F   74.0   Others   66.0  Others  Commerce      58.0  Comm&Mgmt   \n",
       "214      M   62.0  Central   58.0  Others   Science      53.0  Comm&Mgmt   \n",
       "\n",
       "    workex  etest_p specialisation  mba_p      status    salary  \n",
       "210     No     91.0        Mkt&Fin  74.49      Placed  400000.0  \n",
       "211     No     74.0        Mkt&Fin  53.62      Placed  275000.0  \n",
       "212    Yes     59.0        Mkt&Fin  69.72      Placed  295000.0  \n",
       "213     No     70.0         Mkt&HR  60.23      Placed  204000.0  \n",
       "214     No     89.0         Mkt&HR  60.22  Not Placed       NaN  "
      ],
      "text/html": "<div>\n<style scoped>\n    .dataframe tbody tr th:only-of-type {\n        vertical-align: middle;\n    }\n\n    .dataframe tbody tr th {\n        vertical-align: top;\n    }\n\n    .dataframe thead th {\n        text-align: right;\n    }\n</style>\n<table border=\"1\" class=\"dataframe\">\n  <thead>\n    <tr style=\"text-align: right;\">\n      <th></th>\n      <th>gender</th>\n      <th>ssc_p</th>\n      <th>ssc_b</th>\n      <th>hsc_p</th>\n      <th>hsc_b</th>\n      <th>hsc_s</th>\n      <th>degree_p</th>\n      <th>degree_t</th>\n      <th>workex</th>\n      <th>etest_p</th>\n      <th>specialisation</th>\n      <th>mba_p</th>\n      <th>status</th>\n      <th>salary</th>\n    </tr>\n  </thead>\n  <tbody>\n    <tr>\n      <th>210</th>\n      <td>M</td>\n      <td>80.6</td>\n      <td>Others</td>\n      <td>82.0</td>\n      <td>Others</td>\n      <td>Commerce</td>\n      <td>77.6</td>\n      <td>Comm&amp;Mgmt</td>\n      <td>No</td>\n      <td>91.0</td>\n      <td>Mkt&amp;Fin</td>\n      <td>74.49</td>\n      <td>Placed</td>\n      <td>400000.0</td>\n    </tr>\n    <tr>\n      <th>211</th>\n      <td>M</td>\n      <td>58.0</td>\n      <td>Others</td>\n      <td>60.0</td>\n      <td>Others</td>\n      <td>Science</td>\n      <td>72.0</td>\n      <td>Sci&amp;Tech</td>\n      <td>No</td>\n      <td>74.0</td>\n      <td>Mkt&amp;Fin</td>\n      <td>53.62</td>\n      <td>Placed</td>\n      <td>275000.0</td>\n    </tr>\n    <tr>\n      <th>212</th>\n      <td>M</td>\n      <td>67.0</td>\n      <td>Others</td>\n      <td>67.0</td>\n      <td>Others</td>\n      <td>Commerce</td>\n      <td>73.0</td>\n      <td>Comm&amp;Mgmt</td>\n      <td>Yes</td>\n      <td>59.0</td>\n      <td>Mkt&amp;Fin</td>\n      <td>69.72</td>\n      <td>Placed</td>\n      <td>295000.0</td>\n    </tr>\n    <tr>\n      <th>213</th>\n      <td>F</td>\n      <td>74.0</td>\n      <td>Others</td>\n      <td>66.0</td>\n      <td>Others</td>\n      <td>Commerce</td>\n      <td>58.0</td>\n      <td>Comm&amp;Mgmt</td>\n      <td>No</td>\n      <td>70.0</td>\n      <td>Mkt&amp;HR</td>\n      <td>60.23</td>\n      <td>Placed</td>\n      <td>204000.0</td>\n    </tr>\n    <tr>\n      <th>214</th>\n      <td>M</td>\n      <td>62.0</td>\n      <td>Central</td>\n      <td>58.0</td>\n      <td>Others</td>\n      <td>Science</td>\n      <td>53.0</td>\n      <td>Comm&amp;Mgmt</td>\n      <td>No</td>\n      <td>89.0</td>\n      <td>Mkt&amp;HR</td>\n      <td>60.22</td>\n      <td>Not Placed</td>\n      <td>NaN</td>\n    </tr>\n  </tbody>\n</table>\n</div>"
     },
     "metadata": {},
     "execution_count": 26
    }
   ],
   "source": [
    "df.tail()"
   ]
  },
  {
   "cell_type": "code",
   "execution_count": 24,
   "metadata": {},
   "outputs": [
    {
     "output_type": "stream",
     "name": "stdout",
     "text": [
      "<class 'pandas.core.frame.DataFrame'>\nRangeIndex: 215 entries, 0 to 214\nData columns (total 14 columns):\n #   Column          Non-Null Count  Dtype  \n---  ------          --------------  -----  \n 0   gender          215 non-null    object \n 1   ssc_p           215 non-null    float64\n 2   ssc_b           215 non-null    object \n 3   hsc_p           215 non-null    float64\n 4   hsc_b           215 non-null    object \n 5   hsc_s           215 non-null    object \n 6   degree_p        215 non-null    float64\n 7   degree_t        215 non-null    object \n 8   workex          215 non-null    object \n 9   etest_p         215 non-null    float64\n 10  specialisation  215 non-null    object \n 11  mba_p           215 non-null    float64\n 12  status          215 non-null    object \n 13  salary          148 non-null    float64\ndtypes: float64(6), object(8)\nmemory usage: 23.6+ KB\n"
     ]
    }
   ],
   "source": [
    "df.info()"
   ]
  },
  {
   "cell_type": "code",
   "execution_count": 25,
   "metadata": {},
   "outputs": [
    {
     "output_type": "execute_result",
     "data": {
      "text/plain": [
       "            ssc_p       hsc_p    degree_p     etest_p       mba_p  \\\n",
       "count  215.000000  215.000000  215.000000  215.000000  215.000000   \n",
       "mean    67.303395   66.333163   66.370186   72.100558   62.278186   \n",
       "std     10.827205   10.897509    7.358743   13.275956    5.833385   \n",
       "min     40.890000   37.000000   50.000000   50.000000   51.210000   \n",
       "25%     60.600000   60.900000   61.000000   60.000000   57.945000   \n",
       "50%     67.000000   65.000000   66.000000   71.000000   62.000000   \n",
       "75%     75.700000   73.000000   72.000000   83.500000   66.255000   \n",
       "max     89.400000   97.700000   91.000000   98.000000   77.890000   \n",
       "\n",
       "              salary  \n",
       "count     148.000000  \n",
       "mean   288655.405405  \n",
       "std     93457.452420  \n",
       "min    200000.000000  \n",
       "25%    240000.000000  \n",
       "50%    265000.000000  \n",
       "75%    300000.000000  \n",
       "max    940000.000000  "
      ],
      "text/html": "<div>\n<style scoped>\n    .dataframe tbody tr th:only-of-type {\n        vertical-align: middle;\n    }\n\n    .dataframe tbody tr th {\n        vertical-align: top;\n    }\n\n    .dataframe thead th {\n        text-align: right;\n    }\n</style>\n<table border=\"1\" class=\"dataframe\">\n  <thead>\n    <tr style=\"text-align: right;\">\n      <th></th>\n      <th>ssc_p</th>\n      <th>hsc_p</th>\n      <th>degree_p</th>\n      <th>etest_p</th>\n      <th>mba_p</th>\n      <th>salary</th>\n    </tr>\n  </thead>\n  <tbody>\n    <tr>\n      <th>count</th>\n      <td>215.000000</td>\n      <td>215.000000</td>\n      <td>215.000000</td>\n      <td>215.000000</td>\n      <td>215.000000</td>\n      <td>148.000000</td>\n    </tr>\n    <tr>\n      <th>mean</th>\n      <td>67.303395</td>\n      <td>66.333163</td>\n      <td>66.370186</td>\n      <td>72.100558</td>\n      <td>62.278186</td>\n      <td>288655.405405</td>\n    </tr>\n    <tr>\n      <th>std</th>\n      <td>10.827205</td>\n      <td>10.897509</td>\n      <td>7.358743</td>\n      <td>13.275956</td>\n      <td>5.833385</td>\n      <td>93457.452420</td>\n    </tr>\n    <tr>\n      <th>min</th>\n      <td>40.890000</td>\n      <td>37.000000</td>\n      <td>50.000000</td>\n      <td>50.000000</td>\n      <td>51.210000</td>\n      <td>200000.000000</td>\n    </tr>\n    <tr>\n      <th>25%</th>\n      <td>60.600000</td>\n      <td>60.900000</td>\n      <td>61.000000</td>\n      <td>60.000000</td>\n      <td>57.945000</td>\n      <td>240000.000000</td>\n    </tr>\n    <tr>\n      <th>50%</th>\n      <td>67.000000</td>\n      <td>65.000000</td>\n      <td>66.000000</td>\n      <td>71.000000</td>\n      <td>62.000000</td>\n      <td>265000.000000</td>\n    </tr>\n    <tr>\n      <th>75%</th>\n      <td>75.700000</td>\n      <td>73.000000</td>\n      <td>72.000000</td>\n      <td>83.500000</td>\n      <td>66.255000</td>\n      <td>300000.000000</td>\n    </tr>\n    <tr>\n      <th>max</th>\n      <td>89.400000</td>\n      <td>97.700000</td>\n      <td>91.000000</td>\n      <td>98.000000</td>\n      <td>77.890000</td>\n      <td>940000.000000</td>\n    </tr>\n  </tbody>\n</table>\n</div>"
     },
     "metadata": {},
     "execution_count": 25
    }
   ],
   "source": [
    "df.describe()"
   ]
  },
  {
   "cell_type": "code",
   "execution_count": 27,
   "metadata": {},
   "outputs": [
    {
     "output_type": "execute_result",
     "data": {
      "text/plain": [
       "       gender    ssc_b   hsc_b     hsc_s   degree_t workex specialisation  \\\n",
       "count     215      215     215       215        215    215            215   \n",
       "unique      2        2       2         3          3      2              2   \n",
       "top         M  Central  Others  Commerce  Comm&Mgmt     No        Mkt&Fin   \n",
       "freq      139      116     131       113        145    141            120   \n",
       "\n",
       "        status  \n",
       "count      215  \n",
       "unique       2  \n",
       "top     Placed  \n",
       "freq       148  "
      ],
      "text/html": "<div>\n<style scoped>\n    .dataframe tbody tr th:only-of-type {\n        vertical-align: middle;\n    }\n\n    .dataframe tbody tr th {\n        vertical-align: top;\n    }\n\n    .dataframe thead th {\n        text-align: right;\n    }\n</style>\n<table border=\"1\" class=\"dataframe\">\n  <thead>\n    <tr style=\"text-align: right;\">\n      <th></th>\n      <th>gender</th>\n      <th>ssc_b</th>\n      <th>hsc_b</th>\n      <th>hsc_s</th>\n      <th>degree_t</th>\n      <th>workex</th>\n      <th>specialisation</th>\n      <th>status</th>\n    </tr>\n  </thead>\n  <tbody>\n    <tr>\n      <th>count</th>\n      <td>215</td>\n      <td>215</td>\n      <td>215</td>\n      <td>215</td>\n      <td>215</td>\n      <td>215</td>\n      <td>215</td>\n      <td>215</td>\n    </tr>\n    <tr>\n      <th>unique</th>\n      <td>2</td>\n      <td>2</td>\n      <td>2</td>\n      <td>3</td>\n      <td>3</td>\n      <td>2</td>\n      <td>2</td>\n      <td>2</td>\n    </tr>\n    <tr>\n      <th>top</th>\n      <td>M</td>\n      <td>Central</td>\n      <td>Others</td>\n      <td>Commerce</td>\n      <td>Comm&amp;Mgmt</td>\n      <td>No</td>\n      <td>Mkt&amp;Fin</td>\n      <td>Placed</td>\n    </tr>\n    <tr>\n      <th>freq</th>\n      <td>139</td>\n      <td>116</td>\n      <td>131</td>\n      <td>113</td>\n      <td>145</td>\n      <td>141</td>\n      <td>120</td>\n      <td>148</td>\n    </tr>\n  </tbody>\n</table>\n</div>"
     },
     "metadata": {},
     "execution_count": 27
    }
   ],
   "source": [
    "df.describe(include=[\"object\"])"
   ]
  },
  {
   "cell_type": "code",
   "execution_count": null,
   "metadata": {},
   "outputs": [],
   "source": []
  }
 ]
}