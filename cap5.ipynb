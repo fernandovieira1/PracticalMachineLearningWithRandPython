{
  "nbformat": 4,
  "nbformat_minor": 0,
  "metadata": {
    "colab": {
      "name": "cap5.ipynb",
      "provenance": [],
      "authorship_tag": "ABX9TyODpa/k43M9htsDrr07ix+x",
      "include_colab_link": true
    },
    "kernelspec": {
      "name": "python3",
      "display_name": "Python 3"
    }
  },
  "cells": [
    {
      "cell_type": "markdown",
      "metadata": {
        "id": "view-in-github",
        "colab_type": "text"
      },
      "source": [
        "<a href=\"https://colab.research.google.com/github/fernandovieira1/PracticalMachineLearningWithRandPython/blob/master/cap5.ipynb\" target=\"_parent\"><img src=\"https://colab.research.google.com/assets/colab-badge.svg\" alt=\"Open In Colab\"/></a>"
      ]
    },
    {
      "cell_type": "code",
      "metadata": {
        "id": "m4TjXRhjrBKt"
      },
      "source": [
        "import pandas as pd\n",
        "import numpy as np\n",
        "import matplotlib.pyplot as plt\n",
        "from sklearn.model_selection import train_test_split\n",
        "from sklearn.linear_model import LogisticRegression\n",
        "from sklearn.datasets import make_classification, make_blobs"
      ],
      "execution_count": 12,
      "outputs": []
    },
    {
      "cell_type": "code",
      "metadata": {
        "id": "lxe7X5W5r7Um"
      },
      "source": [
        "from sklearn.metrics import confusion_matrix\n",
        "from matplotlib.colors import ListedColormap\n",
        "from sklearn.datasets import load_breast_cancer"
      ],
      "execution_count": 13,
      "outputs": []
    },
    {
      "cell_type": "markdown",
      "metadata": {
        "id": "nhfmSFTUu959"
      },
      "source": [
        "**Load the cancer data**"
      ]
    },
    {
      "cell_type": "code",
      "metadata": {
        "id": "EOzGIshctyEi"
      },
      "source": [
        "(X_cancer, y_cancer) = load_breast_cancer(return_X_y=True)"
      ],
      "execution_count": 14,
      "outputs": []
    },
    {
      "cell_type": "code",
      "metadata": {
        "colab": {
          "base_uri": "https://localhost:8080/"
        },
        "id": "sYFyxP2muQxU",
        "outputId": "406e59ea-8a23-4598-b2b7-36f744602225"
      },
      "source": [
        "X_cancer.shape"
      ],
      "execution_count": 15,
      "outputs": [
        {
          "output_type": "execute_result",
          "data": {
            "text/plain": [
              "(569, 30)"
            ]
          },
          "metadata": {
            "tags": []
          },
          "execution_count": 15
        }
      ]
    },
    {
      "cell_type": "code",
      "metadata": {
        "colab": {
          "base_uri": "https://localhost:8080/"
        },
        "id": "FoxzLr2CubIi",
        "outputId": "0d2e80a1-586d-44a1-dea4-5ec83fd93500"
      },
      "source": [
        "y_cancer.shape"
      ],
      "execution_count": 16,
      "outputs": [
        {
          "output_type": "execute_result",
          "data": {
            "text/plain": [
              "(569,)"
            ]
          },
          "metadata": {
            "tags": []
          },
          "execution_count": 16
        }
      ]
    },
    {
      "cell_type": "markdown",
      "metadata": {
        "id": "jzPmOxt_vf3u"
      },
      "source": [
        "**Split data into train and test**"
      ]
    },
    {
      "cell_type": "code",
      "metadata": {
        "id": "CFa1CoKuvuK6"
      },
      "source": [
        "X_train, X_test, y_train, y_test = train_test_split(\n",
        "    X_cancer, y_cancer, random_state=0)"
      ],
      "execution_count": 17,
      "outputs": []
    },
    {
      "cell_type": "markdown",
      "metadata": {
        "id": "Coaj4P4kwpD1"
      },
      "source": [
        "**Call the Logistic Regression function**"
      ]
    },
    {
      "cell_type": "code",
      "metadata": {
        "id": "mak-6mJKwP2t"
      },
      "source": [
        "clf = LogisticRegression(max_iter=10000).fit(X_train, y_train)"
      ],
      "execution_count": 29,
      "outputs": []
    },
    {
      "cell_type": "code",
      "metadata": {
        "colab": {
          "base_uri": "https://localhost:8080/"
        },
        "id": "fwExf4xCWcm6",
        "outputId": "657b3c26-6617-4305-ff29-751217a216d4"
      },
      "source": [
        "clf.score(X_train, y_train)"
      ],
      "execution_count": 36,
      "outputs": [
        {
          "output_type": "execute_result",
          "data": {
            "text/plain": [
              "0.960093896713615"
            ]
          },
          "metadata": {
            "tags": []
          },
          "execution_count": 36
        }
      ]
    },
    {
      "cell_type": "code",
      "metadata": {
        "colab": {
          "base_uri": "https://localhost:8080/"
        },
        "id": "iU4XEv5XUJoi",
        "outputId": "defc02e9-9da6-4273-b0d4-68a31079a948"
      },
      "source": [
        "clf.score(X_test, y_test)"
      ],
      "execution_count": 35,
      "outputs": [
        {
          "output_type": "execute_result",
          "data": {
            "text/plain": [
              "0.951048951048951"
            ]
          },
          "metadata": {
            "tags": []
          },
          "execution_count": 35
        }
      ]
    },
    {
      "cell_type": "code",
      "metadata": {
        "id": "Npw0JmOuWxBL"
      },
      "source": [
        "y_predicted = clf.predict(X_test)"
      ],
      "execution_count": 37,
      "outputs": []
    },
    {
      "cell_type": "code",
      "metadata": {
        "id": "JSqldSX6YneJ"
      },
      "source": [
        ""
      ],
      "execution_count": null,
      "outputs": []
    },
    {
      "cell_type": "markdown",
      "metadata": {
        "id": "ilpX492FYrMa"
      },
      "source": [
        "**Compute and print confusion matrix**"
      ]
    },
    {
      "cell_type": "code",
      "metadata": {
        "id": "H8SWKUJgY2dd"
      },
      "source": [
        "confusion = confusion_matrix(y_test, y_predicted)"
      ],
      "execution_count": 38,
      "outputs": []
    },
    {
      "cell_type": "code",
      "metadata": {
        "id": "CspckTiGZGXj"
      },
      "source": [
        "from sklearn.metrics import accuracy_score, precision_score, recall_score, f1_score"
      ],
      "execution_count": 39,
      "outputs": []
    },
    {
      "cell_type": "code",
      "metadata": {
        "colab": {
          "base_uri": "https://localhost:8080/"
        },
        "id": "L6y1rwp4ZaUP",
        "outputId": "e11b81d4-a215-4782-d883-603a611e8893"
      },
      "source": [
        "accuracy_score(y_test, y_predicted).round(2)"
      ],
      "execution_count": 45,
      "outputs": [
        {
          "output_type": "execute_result",
          "data": {
            "text/plain": [
              "0.95"
            ]
          },
          "metadata": {
            "tags": []
          },
          "execution_count": 45
        }
      ]
    },
    {
      "cell_type": "code",
      "metadata": {
        "colab": {
          "base_uri": "https://localhost:8080/"
        },
        "id": "ZqYTtYiHb2JL",
        "outputId": "87299a13-dce0-4348-9f26-d57f1044a042"
      },
      "source": [
        "precision_score(y_test, y_predicted).round(2)"
      ],
      "execution_count": 46,
      "outputs": [
        {
          "output_type": "execute_result",
          "data": {
            "text/plain": [
              "0.99"
            ]
          },
          "metadata": {
            "tags": []
          },
          "execution_count": 46
        }
      ]
    },
    {
      "cell_type": "code",
      "metadata": {
        "colab": {
          "base_uri": "https://localhost:8080/"
        },
        "id": "pWdQaob0cReG",
        "outputId": "284ede95-998d-4313-8175-e1f6db028c15"
      },
      "source": [
        "recall_score(y_test, y_predicted).round(2)"
      ],
      "execution_count": 47,
      "outputs": [
        {
          "output_type": "execute_result",
          "data": {
            "text/plain": [
              "0.93"
            ]
          },
          "metadata": {
            "tags": []
          },
          "execution_count": 47
        }
      ]
    },
    {
      "cell_type": "code",
      "metadata": {
        "colab": {
          "base_uri": "https://localhost:8080/"
        },
        "id": "DuJ5v5rTch39",
        "outputId": "534e53ed-b53d-4e41-df2e-836d83e89d66"
      },
      "source": [
        "f1_score(y_test, y_predicted).round(2)"
      ],
      "execution_count": 48,
      "outputs": [
        {
          "output_type": "execute_result",
          "data": {
            "text/plain": [
              "0.96"
            ]
          },
          "metadata": {
            "tags": []
          },
          "execution_count": 48
        }
      ]
    }
  ]
}